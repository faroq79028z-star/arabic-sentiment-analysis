{
 "cells": [
  {
   "cell_type": "code",
   "execution_count": 6,
   "id": "915bf659-f613-4b56-9622-d57db6fa135f",
   "metadata": {},
   "outputs": [],
   "source": [
    "import pandas as pd\n",
    "import matplotlib.pyplot as plt\n",
    "import seaborn as sns\n",
    "\n",
    "# إعدادات العرض\n",
    "%matplotlib inline\n",
    "sns.set_theme(style=\"whitegrid\", font_scale=1.2)\n",
    "plt.rcParams['font.family'] = 'Arial' # Use a font that supports Arabic if available"
   ]
  },
  {
   "cell_type": "code",
   "execution_count": 9,
   "id": "f59847d9-ac63-4128-9f40-c97a85aa9e18",
   "metadata": {},
   "outputs": [
    {
     "data": {
      "text/html": [
       "<div>\n",
       "<style scoped>\n",
       "    .dataframe tbody tr th:only-of-type {\n",
       "        vertical-align: middle;\n",
       "    }\n",
       "\n",
       "    .dataframe tbody tr th {\n",
       "        vertical-align: top;\n",
       "    }\n",
       "\n",
       "    .dataframe thead th {\n",
       "        text-align: right;\n",
       "    }\n",
       "</style>\n",
       "<table border=\"1\" class=\"dataframe\">\n",
       "  <thead>\n",
       "    <tr style=\"text-align: right;\">\n",
       "      <th></th>\n",
       "      <th>text</th>\n",
       "      <th>sentiment</th>\n",
       "    </tr>\n",
       "  </thead>\n",
       "  <tbody>\n",
       "    <tr>\n",
       "      <th>0</th>\n",
       "      <td>هذا المنتج رائع جداً، أنصح به بشدة</td>\n",
       "      <td>positive</td>\n",
       "    </tr>\n",
       "    <tr>\n",
       "      <th>1</th>\n",
       "      <td>تجربة سيئة للغاية، لن أكررها</td>\n",
       "      <td>negative</td>\n",
       "    </tr>\n",
       "    <tr>\n",
       "      <th>2</th>\n",
       "      <td>منتج عادي، لا شيء مميز فيه</td>\n",
       "      <td>neutral</td>\n",
       "    </tr>\n",
       "    <tr>\n",
       "      <th>3</th>\n",
       "      <td>أفضل خدمة عملاء تعاملت معها</td>\n",
       "      <td>positive</td>\n",
       "    </tr>\n",
       "    <tr>\n",
       "      <th>4</th>\n",
       "      <td>تأخير في التوصيل وجودة سيئة</td>\n",
       "      <td>negative</td>\n",
       "    </tr>\n",
       "  </tbody>\n",
       "</table>\n",
       "</div>"
      ],
      "text/plain": [
       "                                 text sentiment\n",
       "0  هذا المنتج رائع جداً، أنصح به بشدة  positive\n",
       "1        تجربة سيئة للغاية، لن أكررها  negative\n",
       "2          منتج عادي، لا شيء مميز فيه   neutral\n",
       "3         أفضل خدمة عملاء تعاملت معها  positive\n",
       "4         تأخير في التوصيل وجودة سيئة  negative"
      ]
     },
     "execution_count": 9,
     "metadata": {},
     "output_type": "execute_result"
    }
   ],
   "source": [
    "# تحميل البيانات من ملف CSV\n",
    "df = pd.read_csv('data/reviews.csv', delimiter=';', encoding='utf-8')\n",
    "\n",
    "# عرض أول 5 صفوف\n",
    "df.head()"
   ]
  },
  {
   "cell_type": "code",
   "execution_count": 10,
   "id": "f8ec1cc3-f196-4bb1-8670-3dbadbd6f1b2",
   "metadata": {},
   "outputs": [
    {
     "name": "stdout",
     "output_type": "stream",
     "text": [
      "<class 'pandas.core.frame.DataFrame'>\n",
      "RangeIndex: 15 entries, 0 to 14\n",
      "Data columns (total 2 columns):\n",
      " #   Column     Non-Null Count  Dtype \n",
      "---  ------     --------------  ----- \n",
      " 0   text       15 non-null     object\n",
      " 1   sentiment  15 non-null     object\n",
      "dtypes: object(2)\n",
      "memory usage: 372.0+ bytes\n",
      "\n",
      "Missing values:\n",
      "text         0\n",
      "sentiment    0\n",
      "dtype: int64\n"
     ]
    }
   ],
   "source": [
    "# عرض معلومات حول البيانات\n",
    "df.info()\n",
    "\n",
    "# التحقق من وجود قيم فارغة\n",
    "print(\"\\nMissing values:\")\n",
    "print(df.isnull().sum())"
   ]
  },
  {
   "cell_type": "code",
   "execution_count": 11,
   "id": "9ce2862d-c0eb-4b0d-b4e8-a277c28a5b73",
   "metadata": {},
   "outputs": [
    {
     "name": "stderr",
     "output_type": "stream",
     "text": [
      "C:\\Users\\G5\\AppData\\Local\\Temp\\ipykernel_29236\\241180320.py:6: FutureWarning: \n",
      "\n",
      "Passing `palette` without assigning `hue` is deprecated and will be removed in v0.14.0. Assign the `x` variable to `hue` and set `legend=False` for the same effect.\n",
      "\n",
      "  sns.barplot(x=sentiment_counts.index, y=sentiment_counts.values, palette='viridis')\n"
     ]
    },
    {
     "data": {
      "image/png": "[encoded data removed]",
      "text/plain": [
       "<Figure size 800x600 with 1 Axes>"
      ]
     },
     "metadata": {},
     "output_type": "display_data"
    },
    {
     "name": "stdout",
     "output_type": "stream",
     "text": [
      "sentiment\n",
      "positive    5\n",
      "negative    5\n",
      "neutral     5\n",
      "Name: count, dtype: int64\n"
     ]
    }
   ],
   "source": [
    "# حساب عدد المراجعات لكل فئة\n",
    "sentiment_counts = df['sentiment'].value_counts()\n",
    "\n",
    "# رسم بياني لتوزيع الفئات\n",
    "plt.figure(figsize=(8, 6))\n",
    "sns.barplot(x=sentiment_counts.index, y=sentiment_counts.values, palette='viridis')\n",
    "plt.title('Distribution of Sentiments')\n",
    "plt.xlabel('Sentiment')\n",
    "plt.ylabel('Number of Reviews')\n",
    "plt.show()\n",
    "\n",
    "print(sentiment_counts)"
   ]
  },
  {
   "cell_type": "code",
   "execution_count": null,
   "id": "6314aeb5-957d-4cd9-a11e-4e1c1e95b8a8",
   "metadata": {},
   "outputs": [],
   "source": []
  }
 ],
 "metadata": {
  "kernelspec": {
   "display_name": "Python 3 (ipykernel)",
   "language": "python",
   "name": "python3"
  },
  "language_info": {
   "codemirror_mode": {
    "name": "ipython",
    "version": 3
   },
   "file_extension": ".py",
   "mimetype": "text/x-python",
   "name": "python",
   "nbconvert_exporter": "python",
   "pygments_lexer": "ipython3",
   "version": "3.12.11"
  }
 },
 "nbformat": 4,
 "nbformat_minor": 5
}
